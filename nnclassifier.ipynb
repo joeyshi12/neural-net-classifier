{
 "cells": [
  {
   "cell_type": "code",
   "execution_count": 27,
   "metadata": {
    "collapsed": true,
    "pycharm": {
     "name": "#%% Imports\n"
    }
   },
   "outputs": [],
   "source": [
    "import pickle\n",
    "import gzip\n",
    "import numpy as np\n",
    "import matplotlib.pyplot as plt\n",
    "from joblib import dump\n",
    "from model.neural_net import NNClassifier"
   ]
  },
  {
   "cell_type": "code",
   "execution_count": 14,
   "outputs": [
    {
     "name": "stdout",
     "output_type": "stream",
     "text": [
      "n = 50000\n",
      "d = 784\n"
     ]
    }
   ],
   "source": [
    "with gzip.open('data/mnist.pkl.gz', 'rb') as f:\n",
    "    train_set, valid_set, test_set = pickle.load(f, encoding=\"latin1\")\n",
    "X, y = train_set\n",
    "X_test, y_test = test_set\n",
    "print(\"n =\", X.shape[0])\n",
    "print(\"d =\", X.shape[1])"
   ],
   "metadata": {
    "collapsed": false,
    "pycharm": {
     "name": "#%% Load dataset\n"
    }
   }
  },
  {
   "cell_type": "code",
   "execution_count": 15,
   "outputs": [
    {
     "name": "stdout",
     "output_type": "stream",
     "text": [
      "loss: 436.99431264345753\n",
      "loss: 241.3345058534081\n",
      "loss: 168.40904357091767\n",
      "loss: 155.74916156759653\n",
      "loss: 175.60998886911074\n",
      "loss: 168.72125784513656\n",
      "loss: 161.4339919241616\n",
      "loss: 112.96146162616199\n",
      "loss: 131.89744643063992\n",
      "loss: 127.58729568076491\n",
      "loss: 158.56399976299224\n",
      "loss: 119.03385390811303\n",
      "loss: 108.77870688411744\n",
      "loss: 132.79800015094045\n",
      "loss: 101.41915410957209\n",
      "loss: 106.89066161512154\n",
      "loss: 109.62322857165606\n",
      "loss: 110.72753614981218\n",
      "loss: 118.05921789010631\n",
      "loss: 76.02664407724143\n"
     ]
    }
   ],
   "source": [
    "model = NNClassifier(hidden_layer_sizes=[300], lammy=0.01, epochs=20, verbose=True)\n",
    "model.fit(X, y)"
   ],
   "metadata": {
    "collapsed": false,
    "pycharm": {
     "name": "#%% Train model\n"
    }
   }
  },
  {
   "cell_type": "code",
   "execution_count": 18,
   "outputs": [
    {
     "name": "stdout",
     "output_type": "stream",
     "text": [
      "0.0589\n",
      "0.0605\n"
     ]
    }
   ],
   "source": [
    "print(np.mean(model.predict(X) != y))\n",
    "print(np.mean(model.predict(X_test) != y_test))"
   ],
   "metadata": {
    "collapsed": false,
    "pycharm": {
     "name": "#%% Evaluate model\n"
    }
   }
  },
  {
   "cell_type": "code",
   "execution_count": 25,
   "outputs": [
    {
     "data": {
      "text/plain": "['trained_models/nn2']"
     },
     "execution_count": 25,
     "metadata": {},
     "output_type": "execute_result"
    }
   ],
   "source": [
    "dump(model, \"trained_models/nn2.joblib\")"
   ],
   "metadata": {
    "collapsed": false,
    "pycharm": {
     "name": "#%% Save model\n"
    }
   }
  },
  {
   "cell_type": "code",
   "execution_count": 47,
   "outputs": [
    {
     "name": "stdout",
     "output_type": "stream",
     "text": [
      "Prediction: 3\n",
      "Actual: 3\n"
     ]
    },
    {
     "data": {
      "text/plain": "<Figure size 432x288 with 1 Axes>",
      "image/png": "[encoded data removed]"
     },
     "metadata": {
      "needs_background": "light"
     },
     "output_type": "display_data"
    }
   ],
   "source": [
    "i = 50\n",
    "image = 1 - np.reshape(X[i], (28, 28))\n",
    "plt.imshow(image, cmap='gray')\n",
    "print(\"Prediction: %d\" %model.predict([X[i]]))\n",
    "print(\"Actual: %d\" %y[i])\n"
   ],
   "metadata": {
    "collapsed": false,
    "pycharm": {
     "name": "#%% Display and test examples\n"
    }
   }
  }
 ],
 "metadata": {
  "kernelspec": {
   "display_name": "Python 3",
   "language": "python",
   "name": "python3"
  },
  "language_info": {
   "codemirror_mode": {
    "name": "ipython",
    "version": 2
   },
   "file_extension": ".py",
   "mimetype": "text/x-python",
   "name": "python",
   "nbconvert_exporter": "python",
   "pygments_lexer": "ipython2",
   "version": "2.7.6"
  }
 },
 "nbformat": 4,
 "nbformat_minor": 0
}