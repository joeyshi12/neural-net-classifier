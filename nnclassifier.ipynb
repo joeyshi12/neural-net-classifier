{
 "cells": [
  {
   "cell_type": "markdown",
   "metadata": {
    "collapsed": false,
    "pycharm": {
     "name": "#%% md\n"
    }
   },
   "source": [
    "# Implementation of a Neural Network Classification Model\n",
    "**Joey Shi**\n",
    "\n",
    "In this notebook, we will describe the implementation details and theory behind neural network classification.\n",
    "The topics covered will include the softmax loss function, computing gradients for multi-variable vector functions, and the gradient descent algorithm.\n",
    "\n",
    "## Notation\n",
    "1. $X$ is a $n \\times d$ feature matrix of real numbers, such that each row $x_i\\in\\mathbb{R}^d$ is an example.\n",
    "2. $y$ is an $n$-dimensional label vector, such that each $y_i\\in\\{1,2,\\dots , k_L\\}$ is a class label.\n",
    "3. $h(z)$ is a non-linear function. We will call it an activation function.\n",
    "4. $W^{(l)}$ is a $k_{l} \\times k_{l-1}$ weight matrix.\n",
    "5. $b^{(l)}$ is a $k_{l}$-dimensional bias vector.\n",
    "6. $p(y_i \\mid D, x_i)$ is the probability of predicting $y_i$ from $x_i$ and parameters $D$\n",
    "7. $\\delta_{a, b} = 1$ if $a = b$, $\\delta_{a, b} = 0$ otherwise [Kronecker delta function]."
   ]
  },
  {
   "cell_type": "code",
   "execution_count": null,
   "metadata": {
    "pycharm": {
     "name": "#%% Imports\n"
    }
   },
   "outputs": [],
   "source": [
    "import pickle\n",
    "import gzip\n",
    "import numpy as np\n",
    "import matplotlib.pyplot as plt\n",
    "from joblib import dump\n",
    "from nnclassifier.nnclassifier import NNClassifier"
   ]
  },
  {
   "cell_type": "code",
   "execution_count": null,
   "metadata": {
    "pycharm": {
     "name": "#%% Load dataset\n"
    }
   },
   "outputs": [],
   "source": [
    "with gzip.open('data/mnist.pkl.gz', 'rb') as f:\n",
    "    train_set, valid_set, test_set = pickle.load(f, encoding=\"latin1\")\n",
    "X, y = train_set\n",
    "X_test, y_test = test_set\n",
    "print(\"n =\", X.shape[0])\n",
    "print(\"d =\", X.shape[1])"
   ]
  },
  {
   "cell_type": "code",
   "execution_count": null,
   "metadata": {
    "pycharm": {
     "name": "#%% Train model\n"
    }
   },
   "outputs": [],
   "source": [
    "model = NNClassifier(hidden_layer_sizes=[300], lammy=0.01, epochs=20, verbose=True)\n",
    "model.fit(X, y)"
   ]
  },
  {
   "cell_type": "code",
   "execution_count": null,
   "metadata": {
    "pycharm": {
     "name": "#%% Evaluate model\n"
    }
   },
   "outputs": [],
   "source": [
    "print(np.mean(model.predict(X) != y))\n",
    "print(np.mean(model.predict(X_test) != y_test))"
   ]
  },
  {
   "cell_type": "code",
   "execution_count": null,
   "metadata": {
    "pycharm": {
     "name": "#%% Save model\n"
    }
   },
   "outputs": [],
   "source": [
    "dump(model, \"trained_models/nn2.joblib\")"
   ]
  },
  {
   "cell_type": "code",
   "execution_count": null,
   "metadata": {
    "pycharm": {
     "name": "#%% Display and test examples\n"
    }
   },
   "outputs": [],
   "source": [
    "i = 50\n",
    "image = 1 - np.reshape(X[i], (28, 28))\n",
    "plt.imshow(image, cmap='gray')\n",
    "print(\"Prediction: %d\" %model.predict([X[i]]))\n",
    "print(\"Actual: %d\" %y[i])"
   ]
  }
 ],
 "metadata": {
  "kernelspec": {
   "display_name": "Python 3",
   "language": "python",
   "name": "python3"
  },
  "language_info": {
   "codemirror_mode": {
    "name": "ipython",
    "version": 2
   },
   "file_extension": ".py",
   "mimetype": "text/x-python",
   "name": "python",
   "nbconvert_exporter": "python",
   "pygments_lexer": "ipython2",
   "version": "2.7.6"
  }
 },
 "nbformat": 4,
 "nbformat_minor": 0
}