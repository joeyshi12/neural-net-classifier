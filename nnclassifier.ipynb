{
 "cells": [
  {
   "cell_type": "markdown",
   "metadata": {
    "pycharm": {
     "name": "#%% md\n"
    }
   },
   "source": [
    "# Implementation of a Neural Network Classification Model\n",
    "**Joey Shi**\n",
    "\n",
    "This notebook describes a sample implementation of a neural network classifier.\n",
    "\n",
    "## Table of Contents\n",
    "1. Maximum Likelihood Estimate\n",
    "2. Objective Function\n",
    "3. Computing the Gradient\n",
    "4. Stochastic Gradient Descent Algorithm\n",
    "\n",
    "## Notation\n",
    "* $X$ is a $n \\times d$ feature matrix of real numbers, such that each row $x_i\\in\\mathbb{R}^d$ is an example.\n",
    "* $y$ is an $n$-dimensional label vector, such that each $y_i\\in\\{1,2,\\dots , k_L\\}$ is a class label.\n",
    "* $h(z)$ is a non-linear function. We will refer this as an activation function.\n",
    "* $W^{(l)}$ is a $k_{l} \\times k_{l-1}$ weight matrix.\n",
    "* $b^{(l)}$ is a $k_{l}$-dimensional bias vector.\n",
    "* $p(y_i \\mid D, x_i)$ is the probability of predicting $y_i$ from $x_i$ and parameters $D$\n",
    "* $\\delta_{a, b} = 1$ if $a = b$, $\\delta_{a, b} = 0$ otherwise [Kronecker delta function]."
   ]
  },
  {
   "cell_type": "code",
   "execution_count": null,
   "metadata": {
    "pycharm": {
     "name": "#%% Imports\n"
    }
   },
   "outputs": [],
   "source": [
    "import numpy as np\n",
    "import matplotlib.pyplot as plt\n",
    "import gzip\n",
    "import pickle\n",
    "\n",
    "# Load mnist data set of 26x26 hand-drawn digits\n",
    "with gzip.open('data/mnist.pkl.gz', 'rb') as f:\n",
    "    train_set, valid_set, test_set = pickle.load(f, encoding=\"latin1\")\n",
    "\n",
    "X, y = train_set\n",
    "X_test, y_test = test_set\n",
    "examples, pixels = X.shape\n",
    "print(f\"n = {examples}, d = {pixels}\")\n",
    "\n",
    "# Preview data set\n",
    "example = 0\n",
    "print(f\"digit = {y[example]}\")\n",
    "image = np.reshape(X[example], (28, 28))\n",
    "plt.imshow(image, cmap='gray')\n",
    "plt.show()"
   ]
  },
  {
   "cell_type": "markdown",
   "metadata": {
    "pycharm": {
     "name": "#%% md\n"
    }
   },
   "source": [
    "# Maximum Likelihood Estimate\n",
    "\n",
    "We begin by defining our model's probability mass distribution:\n",
    "\\begin{align*}\n",
    "    p(y_i \\mid D, x_i) &= \\frac{\\exp\\left(z_{i,y_i}^{(L)}\\right)}{\\sum_{c=1}^k \\exp\\left(z_{i,c}^{(L)}\\right)} &[z_i^{(L)} \\text{ is defined in section 4}]\n",
    "\\end{align*}\n",
    "We choose this probability mass function for our classification problem because of its behaviour: $p(y_i \\mid D, x_i)$ is larger if $z_{i,y_i}^{(L)} = \\max_{c} z_{i,c}^{(L)}$ and small otherwise. For our model, we want to maximize this probability across all training example, so we maximize $p(y \\mid D, X)$. Assuming that each example is i.i.d., we can equivalently minimize $-\\log(p(y \\mid D, X))$ to avoid underflow during computation.\n",
    "\\begin{align}\n",
    "    -\\log(p(y \\mid D, X))\n",
    "    &= -\\log\\left(\\prod_{i=1}^n p(y_i = c \\mid D, x_i)\\right) \\\\\n",
    "    &= \\sum_{i=1}^n -\\log(p(y_i \\mid D, x_i)) \\\\\n",
    "    &= \\sum_{i=1}^n -z_{i, y_i}^{(L)} + \\log\\left(\\sum_{c=1}^{k} \\exp\\left(z_{i, c}^{(L)}\\right)\\right) &[\\text{Softmax Loss Function}]\n",
    "\\end{align}"
   ]
  },
  {
   "cell_type": "code",
   "execution_count": null,
   "metadata": {
    "pycharm": {
     "name": "#%%\n"
    }
   },
   "outputs": [],
   "source": [
    "def softmax_loss(Z: np.ndarray, y: np.ndarray):\n",
    "    \"\"\"Returns the softmax loss of Z\"\"\"\n",
    "    z = np.zeros(examples)\n",
    "    for i, d in enumerate(y):\n",
    "        z[i] = Z[i][d]\n",
    "\n",
    "    log_exp_sum = np.log(np.sum(np.exp(Z), axis=1))\n",
    "    return np.sum(-z + log_exp_sum)"
   ]
  },
  {
   "cell_type": "markdown",
   "metadata": {
    "pycharm": {
     "name": "#%% md\n"
    }
   },
   "source": [
    "# Objective Function\n",
    "\n",
    "Consider the following feed-forward neural network.\n",
    "For an input layer defined by $x_i$, our hidden layers are defined by the activation vectors $a_i^{(l)}$ and our output layer is defined by $z_i^{(L)}$.\n",
    "\n",
    "Note: We add hidden layers so our model can learn about latent factors in the data during training.\n",
    "\\begin{align*}\n",
    "    a_i^{(0)} &= x_i & z_i^{(1)} &= W^{(1)}a_i^{(0)} + b^{(1)} \\\\\n",
    "    a_i^{(1)} &= h\\left(z^{(1)}\\right) & z_i^{(2)} &= W^{(2)}a_i^{(1)} + b^{(2)} \\\\\n",
    "    \\vdots & & \\vdots \\\\\n",
    "    a_i^{(L-1)} &= h\\left(z^{(L-1)}\\right) & z_i^{(L)} &= W^{(L)}a_i^{(L-1)} + b^{(L)}\n",
    "\\end{align*}\n",
    "After some weight initialization, given an example $x_i$, our model would predict $\\displaystyle\\hat{y}_i = \\underset{c}{\\text{argmax}} z_{i,c}^{(L)}$. Using softmax loss, our objective function becomes\n",
    "\\begin{align*}\n",
    "    f(W, b) &= \\sum_{i=1}^{n} \\left[-z_{i, y_i}^{(L)} + \\log\\left(\\sum_{c=1}^{k} \\exp\\left(z_{i, c}^{(L)}\\right)\\right)\\right]\n",
    "\\end{align*}"
   ]
  },
  {
   "cell_type": "markdown",
   "metadata": {
    "pycharm": {
     "name": "#%% md\n"
    }
   },
   "source": [
    "# Computing the Gradient\n",
    "Let $A^{(l)}$ be a matrix such that each row is an activation vector $a_i^{(l)}$ and let $Z^{(l)}$ be defined similarly.\n",
    "Define a new matrix R by the recursion relation $R^{(l-1)} = R^{(l)}W^{(l)} \\circ h\\,'\\left(Z^{(l-1)}\\right)$ with a base case of $R^{(L)}$, where $r_{i, c}^{(L)} = p(y_i = c \\mid D, x_i) - \\delta_{y_i, c}$.\n",
    "Then the derivatives of the weights and biases of our network are given by\n",
    "$$\n",
    "\\frac{\\partial f}{\\partial W^{(l)}} = \\left(R^{(l)}\\right)^TA^{(l-1)} \\hspace{1cm} \\frac{\\partial f}{\\partial b^{(l)}} = \\sum_{i=1}^{n} r_i^{(l)}\n",
    "$$\n",
    "\n",
    "**Gradient of $W^{(L)}$ and $b^{(L)}$**\n",
    "\\begin{align*}\n",
    "    \\frac{\\partial f}{\\partial w_{c,j}^{(L)}} &= \\sum_{i=1}^{n} \\left[-a_{i,j}^{(L-1)}\\delta_{y_i, c} + \\frac{1}{\\sum_{c_0=1}^{k_l} \\exp\\left(z_{i,c_0}^{(L)}\\right)}  \\cdot \\exp\\left(z_{i,c}^{(L)}\\right) \\cdot a_{i,j}^{(L-1)}\\right] &[\\text{Chain Rule}] \\\\\n",
    "    &= \\sum_{i=1}^{n} [p(y_i = c \\mid D, x_i) - \\delta_{y_i,c}]a_{i,j}^{(L-1)} \\\\\n",
    "    &= \\sum_{i=1}^{n} r_{i,c}^{(L)}a_{i,j}^{(L-1)} \\\\\n",
    "    \\frac{\\partial f}{\\partial W^{(L)}} &= \\left(R^{(L)}\\right)^TA^{(L-1)} \\\\\n",
    "    \\frac{\\partial f}{\\partial b_{c}^{(L)}} &= \\sum_{i=1}^{n} r_{i, c}^{(L)} \\cdot 1 &[\\text{Similar work as above}] \\\\\n",
    "    \\frac{\\partial f}{\\partial b^{(L)}} &= \\sum_{i=1}^{n} r_i^{(L)}\n",
    "\\end{align*}\n",
    "\n",
    "**Gradient of $W^{(L-1)}$ and $b^{(L-1)}$**\n",
    "\\begin{align*}\n",
    "    \\frac{\\partial f}{\\partial w_{j, k}^{(L-1)}} &= \\sum_{i=1}^{n} \\sum_{c=1}^{k_L} \\left[p(y_i = c \\mid D, x_i) - \\delta_{y_i, c}\\right] \\cdot w_{c,j}^{(L)}  h\\,'\\left(z_{j, k}^{(L-1)}\\right) \\cdot a_{j, k}^{(L-2)} &[\\text{Chain Rule}]\\\\\n",
    "    &= \\sum_{i=1}^{n} \\sum_{c=1}^{k_L} r_{i,c}^{(L)} \\cdot w_{c,k}^{(L)}h\\,'\\left(z_{i, k}^{(L-1)}\\right) \\cdot a_{i, k}^{(L-2)} \\\\\n",
    "    &= \\sum_{i=1}^{n} \\left[\\left(W^{(L)}\\right)^T r_i^{(L)} \\circ h\\,'\\left(z_{i}^{(L-1)}\\right)\\right] \\cdot a_i^{(L-2)} \\\\\n",
    "    &= \\sum_{i=1}^{n} r_{i}^{(L-1)} \\cdot a_i^{(L-2)} \\\\\n",
    "    &= \\left(R^{(L-1)}\\right)^T A^{(L-2)} \\\\\n",
    "    \\frac{\\partial f}{\\partial b_{k}^{(L-1)}} &= \\sum_{i=1}^{n} r_{i, k}^{(L-1)} \\cdot 1 &[\\text{Similar work as above}] \\\\\n",
    "    \\frac{\\partial f}{\\partial b^{(L-1)}} &= \\sum_{i=1}^{n} r_i^{(L-1)}\n",
    "\\end{align*}\n",
    "\n",
    "**The following derivations are trivial and left as an easy exercise for the reader**"
   ]
  },
  {
   "cell_type": "code",
   "execution_count": null,
   "metadata": {
    "pycharm": {
     "name": "#%%\n"
    }
   },
   "outputs": [],
   "source": [
    "# Hyper parameters\n",
    "hidden_layer_sizes = [100]\n",
    "alpha = 0.001\n",
    "batches = 10\n",
    "epochs = 5\n",
    "\n",
    "# Random initialization\n",
    "weights = []\n",
    "biases = []\n",
    "layer_sizes = [X.shape[1]] + hidden_layer_sizes + [np.unique(y).size]\n",
    "for i in range(1, len(layer_sizes)):\n",
    "    weights.append(0.01 * np.random.randn(layer_sizes[i], layer_sizes[i - 1]))\n",
    "    biases.append(0.01 * np.random.rand(layer_sizes[i]))"
   ]
  },
  {
   "cell_type": "code",
   "execution_count": null,
   "metadata": {
    "pycharm": {
     "name": "#%%\n"
    }
   },
   "outputs": [],
   "source": [
    "def fun_obj(weights, biases):\n",
    "    activations = [X]\n",
    "    activation_derivs = []\n",
    "    A = X\n",
    "    Z = None\n",
    "    for i, (W, b) in enumerate(zip(weights, biases)):\n",
    "        Z = A @ W.T + b\n",
    "        if i < len(weights) - 1:\n",
    "            A = 1 / (1 + np.exp(-Z))\n",
    "            activations.append(A)\n",
    "            activation_derivs.append(A * (1 - A))\n",
    "\n",
    "    f = softmax_loss(Z, y)\n",
    "    G = np.exp(Z) / np.sum(np.exp(Z), axis=1)[:, None]\n",
    "    for i, d in enumerate(y):\n",
    "        G[i][d] -= 1\n",
    "\n",
    "    grad_W = [None] * (len(layer_sizes) - 1)\n",
    "    grad_b = [None] * (len(layer_sizes) - 1)\n",
    "\n",
    "    grad_W[-1] = G.T @ activations[-1]\n",
    "    grad_b[-1] = np.sum(G, axis=0)\n",
    "\n",
    "    for i in range(len(layer_sizes) - 3, -1, -1):\n",
    "        G = G @ weights[i + 1] * activation_derivs[i]\n",
    "        grad_W[i] = G.T @ activations[i]\n",
    "        grad_b[i] = np.sum(G, axis=0)\n",
    "\n",
    "    return f, (grad_W, grad_b)\n",
    "\n",
    "f, _ = fun_obj(weights, biases)\n",
    "print(f\"Initial loss = {f}\")"
   ]
  },
  {
   "cell_type": "markdown",
   "metadata": {
    "pycharm": {
     "name": "#%% md\n"
    }
   },
   "source": [
    "# Stochastic Gradient Descent Algorithm\n",
    "\n",
    "Define $D$ to be a vector containing all the weights and biases in our model. Then $f(D)$ is our loss function.\n",
    "Given $E$ epoches, $B$ number of batches, and a learning rate $\\alpha^t$, we proceed with minimizing $f(D)$ by stochastic gradient descent.\n",
    "Randomly initialize $D^0$. For each epoch, for each batch, sample $\\lfloor n / B \\rfloor$ training examples without replacement and compute $\\nabla f(D^{t})$. Then,\n",
    "\\begin{align*}\n",
    "    D^{t+1} &= D^{t} - \\alpha^t \\nabla f(D^{t})\n",
    "\\end{align*}\n",
    "We will use the parameters $D^E$ to make predictions for the model."
   ]
  },
  {
   "cell_type": "code",
   "execution_count": null,
   "metadata": {
    "pycharm": {
     "name": "#%% Save model\n"
    }
   },
   "outputs": [],
   "source": [
    "for epoch in range(epochs):\n",
    "    reordered_indices = np.random.choice(X.shape[0], size=X.shape[0], replace=False)\n",
    "    for i in range(batches):\n",
    "        batch = reordered_indices[i * X.shape[0] // batches: (i + 1) * X.shape[0] // batches]\n",
    "        f, g = fun_obj(weights, biases)\n",
    "        grad_W, grad_b = g\n",
    "        for j, (W, gW) in enumerate(zip(weights, grad_W)):\n",
    "            weights[j] -= alpha * gW\n",
    "        for j, (b, gb) in enumerate(zip(biases, grad_b)):\n",
    "            biases[j] -= alpha * gb\n",
    "    print(f\"Epoch: {epoch}, Loss: {f}\")"
   ]
  },
  {
   "cell_type": "code",
   "execution_count": null,
   "metadata": {
    "pycharm": {
     "name": "#%% Display and test examples\n"
    }
   },
   "outputs": [],
   "source": [
    "# Compute predictions y_hat\n",
    "print([w.shape for w in weights])\n",
    "print(X.shape)\n",
    "Z = X\n",
    "A = None\n",
    "for W, b in zip(weights, biases):\n",
    "    Z = Z @ W.T + b\n",
    "    A = 1 / (1 + np.exp(-Z))\n",
    "y_hat = np.argmax(Z, axis=1)"
   ]
  },
  {
   "cell_type": "code",
   "execution_count": null,
   "metadata": {
    "pycharm": {
     "name": "#%%\n"
    }
   },
   "outputs": [],
   "source": [
    "i = 3\n",
    "print(f\"Predict: {y_hat[i]}, Actual: {y[i]}\")\n",
    "image = np.reshape(X[i], (28, 28))\n",
    "plt.imshow(image, cmap='gray')\n",
    "plt.show()"
   ]
  }
 ],
 "metadata": {
  "kernelspec": {
   "display_name": "Python 3 (ipykernel)",
   "language": "python",
   "name": "python3"
  },
  "language_info": {
   "codemirror_mode": {
    "name": "ipython",
    "version": 3
   },
   "file_extension": ".py",
   "mimetype": "text/x-python",
   "name": "python",
   "nbconvert_exporter": "python",
   "pygments_lexer": "ipython3",
   "version": "3.10.9"
  }
 },
 "nbformat": 4,
 "nbformat_minor": 1
}
